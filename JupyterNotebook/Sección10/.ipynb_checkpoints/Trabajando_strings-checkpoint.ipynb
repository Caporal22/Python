{
 "cells": [
  {
   "cell_type": "markdown",
   "id": "1c3ec2c0",
   "metadata": {},
   "source": [
    "# Trabajando con Strings"
   ]
  },
  {
   "cell_type": "markdown",
   "id": "733b08d0",
   "metadata": {},
   "source": [
    "Como hemos visto en el tema anterior, todos los tipos de datos que definimos en Python son objetos, y como consecuencia de esto, tienen varios métodos y atributos interesantes que debemos conocer."
   ]
  },
  {
   "cell_type": "code",
   "execution_count": 9,
   "id": "fce3d6f5",
   "metadata": {},
   "outputs": [
    {
     "name": "stdout",
     "output_type": "stream",
     "text": [
      "Help on built-in function dir in module builtins:\n",
      "\n",
      "dir(...)\n",
      "    dir([object]) -> list of strings\n",
      "    \n",
      "    If called without an argument, return the names in the current scope.\n",
      "    Else, return an alphabetized list of names comprising (some of) the attributes\n",
      "    of the given object, and of attributes reachable from it.\n",
      "    If the object supplies a method named __dir__, it will be used; otherwise\n",
      "    the default dir() logic is used and returns:\n",
      "      for a module object: the module's attributes.\n",
      "      for a class object:  its attributes, and recursively the attributes\n",
      "        of its bases.\n",
      "      for any other object: its attributes, its class's attributes, and\n",
      "        recursively the attributes of its class's base classes.\n",
      "\n"
     ]
    }
   ],
   "source": [
    "help(dir)"
   ]
  },
  {
   "cell_type": "code",
   "execution_count": 7,
   "id": "377310ab",
   "metadata": {},
   "outputs": [],
   "source": [
    "texto = \"cadena de texto\""
   ]
  },
  {
   "cell_type": "code",
   "execution_count": 8,
   "id": "270820c4",
   "metadata": {},
   "outputs": [
    {
     "data": {
      "text/plain": [
       "['__add__',\n",
       " '__class__',\n",
       " '__contains__',\n",
       " '__delattr__',\n",
       " '__dir__',\n",
       " '__doc__',\n",
       " '__eq__',\n",
       " '__format__',\n",
       " '__ge__',\n",
       " '__getattribute__',\n",
       " '__getitem__',\n",
       " '__getnewargs__',\n",
       " '__gt__',\n",
       " '__hash__',\n",
       " '__init__',\n",
       " '__init_subclass__',\n",
       " '__iter__',\n",
       " '__le__',\n",
       " '__len__',\n",
       " '__lt__',\n",
       " '__mod__',\n",
       " '__mul__',\n",
       " '__ne__',\n",
       " '__new__',\n",
       " '__reduce__',\n",
       " '__reduce_ex__',\n",
       " '__repr__',\n",
       " '__rmod__',\n",
       " '__rmul__',\n",
       " '__setattr__',\n",
       " '__sizeof__',\n",
       " '__str__',\n",
       " '__subclasshook__',\n",
       " 'capitalize',\n",
       " 'casefold',\n",
       " 'center',\n",
       " 'count',\n",
       " 'encode',\n",
       " 'endswith',\n",
       " 'expandtabs',\n",
       " 'find',\n",
       " 'format',\n",
       " 'format_map',\n",
       " 'index',\n",
       " 'isalnum',\n",
       " 'isalpha',\n",
       " 'isascii',\n",
       " 'isdecimal',\n",
       " 'isdigit',\n",
       " 'isidentifier',\n",
       " 'islower',\n",
       " 'isnumeric',\n",
       " 'isprintable',\n",
       " 'isspace',\n",
       " 'istitle',\n",
       " 'isupper',\n",
       " 'join',\n",
       " 'ljust',\n",
       " 'lower',\n",
       " 'lstrip',\n",
       " 'maketrans',\n",
       " 'partition',\n",
       " 'removeprefix',\n",
       " 'removesuffix',\n",
       " 'replace',\n",
       " 'rfind',\n",
       " 'rindex',\n",
       " 'rjust',\n",
       " 'rpartition',\n",
       " 'rsplit',\n",
       " 'rstrip',\n",
       " 'split',\n",
       " 'splitlines',\n",
       " 'startswith',\n",
       " 'strip',\n",
       " 'swapcase',\n",
       " 'title',\n",
       " 'translate',\n",
       " 'upper',\n",
       " 'zfill']"
      ]
     },
     "execution_count": 8,
     "metadata": {},
     "output_type": "execute_result"
    }
   ],
   "source": [
    "dir(texto)"
   ]
  },
  {
   "cell_type": "markdown",
   "id": "9dc0dda8",
   "metadata": {},
   "source": [
    "### 1. Transformaciones entre letras mayúsculas y minúsculas"
   ]
  },
  {
   "cell_type": "code",
   "execution_count": 10,
   "id": "6c0453ab",
   "metadata": {},
   "outputs": [],
   "source": [
    "texto = \"hOlA MuNdO\""
   ]
  },
  {
   "cell_type": "code",
   "execution_count": 11,
   "id": "6638fd45",
   "metadata": {},
   "outputs": [
    {
     "data": {
      "text/plain": [
       "'Hola mundo'"
      ]
     },
     "execution_count": 11,
     "metadata": {},
     "output_type": "execute_result"
    }
   ],
   "source": [
    "texto.capitalize()"
   ]
  },
  {
   "cell_type": "code",
   "execution_count": 13,
   "id": "082acc2f",
   "metadata": {},
   "outputs": [
    {
     "data": {
      "text/plain": [
       "'hola mundo'"
      ]
     },
     "execution_count": 13,
     "metadata": {},
     "output_type": "execute_result"
    }
   ],
   "source": [
    "texto.lower()"
   ]
  },
  {
   "cell_type": "code",
   "execution_count": 14,
   "id": "f0c3d13d",
   "metadata": {},
   "outputs": [
    {
     "data": {
      "text/plain": [
       "'HoLa mUnDo'"
      ]
     },
     "execution_count": 14,
     "metadata": {},
     "output_type": "execute_result"
    }
   ],
   "source": [
    "texto.swapcase()"
   ]
  },
  {
   "cell_type": "code",
   "execution_count": 15,
   "id": "a665754b",
   "metadata": {},
   "outputs": [
    {
     "data": {
      "text/plain": [
       "'Hola Mundo'"
      ]
     },
     "execution_count": 15,
     "metadata": {},
     "output_type": "execute_result"
    }
   ],
   "source": [
    "texto.title()"
   ]
  },
  {
   "cell_type": "code",
   "execution_count": 16,
   "id": "bd6e8bbe",
   "metadata": {},
   "outputs": [
    {
     "data": {
      "text/plain": [
       "'HOLA MUNDO'"
      ]
     },
     "execution_count": 16,
     "metadata": {},
     "output_type": "execute_result"
    }
   ],
   "source": [
    "texto.upper()"
   ]
  },
  {
   "cell_type": "markdown",
   "id": "8eab798a",
   "metadata": {},
   "source": [
    "### 2. Buscar y reemplazar "
   ]
  },
  {
   "cell_type": "code",
   "execution_count": 17,
   "id": "1d144a35",
   "metadata": {},
   "outputs": [],
   "source": [
    "texto = \"aoo boo coo\""
   ]
  },
  {
   "cell_type": "code",
   "execution_count": 18,
   "id": "4d726752",
   "metadata": {},
   "outputs": [
    {
     "data": {
      "text/plain": [
       "3"
      ]
     },
     "execution_count": 18,
     "metadata": {},
     "output_type": "execute_result"
    }
   ],
   "source": [
    "# Cuenta las veces que se repite una subcadena\n",
    "texto.count('oo')"
   ]
  },
  {
   "cell_type": "code",
   "execution_count": 20,
   "id": "d38f5f1d",
   "metadata": {},
   "outputs": [
    {
     "data": {
      "text/plain": [
       "4"
      ]
     },
     "execution_count": 20,
     "metadata": {},
     "output_type": "execute_result"
    }
   ],
   "source": [
    "# Devuelve el índice donde se encuentra la subcadena\n",
    "texto.find('boo')"
   ]
  },
  {
   "cell_type": "code",
   "execution_count": 23,
   "id": "7a29fcf4",
   "metadata": {},
   "outputs": [
    {
     "data": {
      "text/plain": [
       "9"
      ]
     },
     "execution_count": 23,
     "metadata": {},
     "output_type": "execute_result"
    }
   ],
   "source": [
    "# Busca la subcadena empezando por el final\n",
    "texto.rfind('oo')"
   ]
  },
  {
   "cell_type": "markdown",
   "id": "74f4acf2",
   "metadata": {},
   "source": [
    "### 3. Clasificaciones de caracteres"
   ]
  },
  {
   "cell_type": "code",
   "execution_count": 27,
   "id": "774641d4",
   "metadata": {},
   "outputs": [],
   "source": [
    "texto1 = '123abc'\n",
    "texto2 = '123$abc'"
   ]
  },
  {
   "cell_type": "code",
   "execution_count": 28,
   "id": "8f521584",
   "metadata": {},
   "outputs": [
    {
     "data": {
      "text/plain": [
       "True"
      ]
     },
     "execution_count": 28,
     "metadata": {},
     "output_type": "execute_result"
    }
   ],
   "source": [
    "# Determina si todos son caracteres alfanumericos\n",
    "texto1.isalnum()"
   ]
  },
  {
   "cell_type": "code",
   "execution_count": 29,
   "id": "e122e11e",
   "metadata": {},
   "outputs": [
    {
     "data": {
      "text/plain": [
       "False"
      ]
     },
     "execution_count": 29,
     "metadata": {},
     "output_type": "execute_result"
    }
   ],
   "source": [
    "texto2.isalnum()"
   ]
  },
  {
   "cell_type": "code",
   "execution_count": 31,
   "id": "6622d581",
   "metadata": {},
   "outputs": [
    {
     "data": {
      "text/plain": [
       "False"
      ]
     },
     "execution_count": 31,
     "metadata": {},
     "output_type": "execute_result"
    }
   ],
   "source": [
    "# Determina si todos los caracteres son numeros\n",
    "texto1.isdigit()"
   ]
  },
  {
   "cell_type": "code",
   "execution_count": 32,
   "id": "185238f4",
   "metadata": {},
   "outputs": [
    {
     "data": {
      "text/plain": [
       "'123'"
      ]
     },
     "execution_count": 32,
     "metadata": {},
     "output_type": "execute_result"
    }
   ],
   "source": [
    "texto1[:3]"
   ]
  },
  {
   "cell_type": "code",
   "execution_count": 33,
   "id": "f75377ed",
   "metadata": {},
   "outputs": [
    {
     "data": {
      "text/plain": [
       "True"
      ]
     },
     "execution_count": 33,
     "metadata": {},
     "output_type": "execute_result"
    }
   ],
   "source": [
    "texto1[:3].isdigit()"
   ]
  },
  {
   "cell_type": "markdown",
   "id": "0eb73c17",
   "metadata": {},
   "source": [
    "### 4. String Formatting"
   ]
  },
  {
   "cell_type": "code",
   "execution_count": 34,
   "id": "4fddeaa6",
   "metadata": {},
   "outputs": [],
   "source": [
    "texto = 'Hola mundo'"
   ]
  },
  {
   "cell_type": "code",
   "execution_count": 36,
   "id": "146c1b5a",
   "metadata": {},
   "outputs": [
    {
     "data": {
      "text/plain": [
       "'     Hola mundo     '"
      ]
     },
     "execution_count": 36,
     "metadata": {},
     "output_type": "execute_result"
    }
   ],
   "source": [
    "texto.center(20)"
   ]
  },
  {
   "cell_type": "code",
   "execution_count": 37,
   "id": "cffa4102",
   "metadata": {},
   "outputs": [
    {
     "data": {
      "text/plain": [
       "'Hola mundo          '"
      ]
     },
     "execution_count": 37,
     "metadata": {},
     "output_type": "execute_result"
    }
   ],
   "source": [
    "texto.ljust(20)"
   ]
  },
  {
   "cell_type": "code",
   "execution_count": 38,
   "id": "523e9515",
   "metadata": {},
   "outputs": [],
   "source": [
    "texto = \"       hola       que        tal     \""
   ]
  },
  {
   "cell_type": "code",
   "execution_count": 39,
   "id": "12568ead",
   "metadata": {},
   "outputs": [
    {
     "name": "stdout",
     "output_type": "stream",
     "text": [
      "       hola       que        tal     \n"
     ]
    }
   ],
   "source": [
    "print(texto)"
   ]
  },
  {
   "cell_type": "code",
   "execution_count": 40,
   "id": "cfe46f5d",
   "metadata": {},
   "outputs": [
    {
     "data": {
      "text/plain": [
       "'hola       que        tal     '"
      ]
     },
     "execution_count": 40,
     "metadata": {},
     "output_type": "execute_result"
    }
   ],
   "source": [
    "texto.lstrip()"
   ]
  },
  {
   "cell_type": "code",
   "execution_count": 44,
   "id": "997c428f",
   "metadata": {},
   "outputs": [
    {
     "data": {
      "text/plain": [
       "'       hola       que        tal'"
      ]
     },
     "execution_count": 44,
     "metadata": {},
     "output_type": "execute_result"
    }
   ],
   "source": [
    "texto.rstrip()"
   ]
  },
  {
   "cell_type": "code",
   "execution_count": 45,
   "id": "e413af9a",
   "metadata": {},
   "outputs": [
    {
     "data": {
      "text/plain": [
       "'hola       que        tal'"
      ]
     },
     "execution_count": 45,
     "metadata": {},
     "output_type": "execute_result"
    }
   ],
   "source": [
    "texto.strip()"
   ]
  },
  {
   "cell_type": "code",
   "execution_count": 43,
   "id": "06438a36",
   "metadata": {},
   "outputs": [
    {
     "data": {
      "text/plain": [
       "'holaquetal'"
      ]
     },
     "execution_count": 43,
     "metadata": {},
     "output_type": "execute_result"
    }
   ],
   "source": [
    "texto.replace(\" \", \"\")"
   ]
  },
  {
   "cell_type": "code",
   "execution_count": 46,
   "id": "0fa59095",
   "metadata": {},
   "outputs": [],
   "source": [
    "texto = \"Hola\""
   ]
  },
  {
   "cell_type": "code",
   "execution_count": 47,
   "id": "572a261b",
   "metadata": {},
   "outputs": [
    {
     "data": {
      "text/plain": [
       "'0000Hola'"
      ]
     },
     "execution_count": 47,
     "metadata": {},
     "output_type": "execute_result"
    }
   ],
   "source": [
    "texto.zfill(8)"
   ]
  },
  {
   "cell_type": "code",
   "execution_count": 48,
   "id": "b54e48a2",
   "metadata": {},
   "outputs": [
    {
     "data": {
      "text/plain": [
       "'azul,verde,azul'"
      ]
     },
     "execution_count": 48,
     "metadata": {},
     "output_type": "execute_result"
    }
   ],
   "source": [
    "# Concatena un string con un objeto iterable\n",
    "\",\".join([\"azul\", \"verde\", \"azul\"])"
   ]
  },
  {
   "cell_type": "code",
   "execution_count": 4,
   "id": "bc0641e8",
   "metadata": {},
   "outputs": [
    {
     "data": {
      "text/plain": [
       "'3-hola-[1, 2]'"
      ]
     },
     "execution_count": 4,
     "metadata": {},
     "output_type": "execute_result"
    }
   ],
   "source": [
    "\"{}-{}-{}\".format(3, \"hola\", [1, 2])"
   ]
  },
  {
   "cell_type": "code",
   "execution_count": null,
   "id": "dad06a8c",
   "metadata": {},
   "outputs": [],
   "source": []
  }
 ],
 "metadata": {
  "kernelspec": {
   "display_name": "Python 3 (ipykernel)",
   "language": "python",
   "name": "python3"
  },
  "language_info": {
   "codemirror_mode": {
    "name": "ipython",
    "version": 3
   },
   "file_extension": ".py",
   "mimetype": "text/x-python",
   "name": "python",
   "nbconvert_exporter": "python",
   "pygments_lexer": "ipython3",
   "version": "3.10.16"
  }
 },
 "nbformat": 4,
 "nbformat_minor": 5
}
